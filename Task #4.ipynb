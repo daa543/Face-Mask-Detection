{
 "cells": [
  {
   "cell_type": "code",
   "execution_count": 1,
   "id": "0b8ade89",
   "metadata": {},
   "outputs": [
    {
     "name": "stdout",
     "output_type": "stream",
     "text": [
      "[INFO] Starting video stream...\n"
     ]
    }
   ],
   "source": [
    "import cv2\n",
    "import os\n",
    "\n",
    "face_cascade_path = cv2.data.haarcascades + 'haarcascade_frontalface_default.xml'\n",
    "face_cascade = cv2.CascadeClassifier(face_cascade_path)\n",
    "\n",
    "if face_cascade.empty():\n",
    "    raise IOError(\"Failed to load Haar cascade file.\")\n",
    "\n",
    "def detect_mask(frame, face_cascade):\n",
    "    gray = cv2.cvtColor(frame, cv2.COLOR_BGR2GRAY)\n",
    "    \n",
    "    faces = face_cascade.detectMultiScale(gray, scaleFactor=1.1, minNeighbors=5, minSize=(60, 60), flags=cv2.CASCADE_SCALE_IMAGE)\n",
    "    \n",
    "    for (x, y, w, h) in faces:\n",
    "        face = frame[y:y+h, x:x+w]\n",
    "        \n",
    "        mask_region = face[int(h/2):h, 0:w]\n",
    "\n",
    "        hsv = cv2.cvtColor(mask_region, cv2.COLOR_BGR2HSV)\n",
    "        \n",
    "        lower_color = (100, 100, 50)   \n",
    "        upper_color = (140, 255, 255)\n",
    "        \n",
    "        mask = cv2.inRange(hsv, lower_color, upper_color)\n",
    "        \n",
    "        mask_percentage = (cv2.countNonZero(mask) / (w * int(h/2))) * 100\n",
    "\n",
    "        label = \"Mask\" if mask_percentage > 50 else \"No Mask\"  \n",
    "        color = (0, 255, 0) if label == \"Mask\" else (0, 0, 255)\n",
    "        \n",
    "        cv2.putText(frame, label, (x, y - 10), cv2.FONT_HERSHEY_SIMPLEX, 0.45, color, 2)\n",
    "        cv2.rectangle(frame, (x, y), (x + w, y + h), color, 2)\n",
    "\n",
    "    return frame\n",
    "\n",
    "print(\"[INFO] Starting video stream...\")\n",
    "vs = cv2.VideoCapture(0)\n",
    "\n",
    "while True:\n",
    "\n",
    "    ret, frame = vs.read()\n",
    "    \n",
    "    if not ret:\n",
    "        break\n",
    "\n",
    "    frame = detect_mask(frame, face_cascade)\n",
    "\n",
    "    cv2.imshow(\"Frame\", frame)\n",
    "    key = cv2.waitKey(1) & 0xFF\n",
    "    \n",
    "    if key == ord(\"q\"):\n",
    "        break\n",
    "\n",
    "cv2.destroyAllWindows()\n",
    "vs.release()\n"
   ]
  },
  {
   "cell_type": "code",
   "execution_count": null,
   "id": "21727530",
   "metadata": {},
   "outputs": [],
   "source": []
  }
 ],
 "metadata": {
  "kernelspec": {
   "display_name": "Python 3 (ipykernel)",
   "language": "python",
   "name": "python3"
  },
  "language_info": {
   "codemirror_mode": {
    "name": "ipython",
    "version": 3
   },
   "file_extension": ".py",
   "mimetype": "text/x-python",
   "name": "python",
   "nbconvert_exporter": "python",
   "pygments_lexer": "ipython3",
   "version": "3.11.5"
  }
 },
 "nbformat": 4,
 "nbformat_minor": 5
}
