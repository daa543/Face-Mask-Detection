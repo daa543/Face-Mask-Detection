{
 "cells": [
  {
   "cell_type": "code",
   "execution_count": 1,
   "id": "21727530",
   "metadata": {},
   "outputs": [
    {
     "name": "stdout",
     "output_type": "stream",
     "text": [
      "[INFO] Starting video stream...\n"
     ]
    }
   ],
   "source": [
    "import cv2\n",
    "import numpy as np\n",
    "\n",
    "face_cascade_path = cv2.data.haarcascades + 'haarcascade_frontalface_default.xml'\n",
    "face_cascade = cv2.CascadeClassifier(face_cascade_path)\n",
    "\n",
    "if face_cascade.empty():\n",
    "    raise IOError(\"Failed to load Haar cascade file.\")\n",
    "\n",
    "def detect_mask(frame, face_cascade):\n",
    "    gray = cv2.cvtColor(frame, cv2.COLOR_BGR2GRAY)\n",
    "    faces = face_cascade.detectMultiScale(gray, scaleFactor=1.1, minNeighbors=5, minSize=(60, 60), flags=cv2.CASCADE_SCALE_IMAGE)\n",
    "    \n",
    "    for (x, y, w, h) in faces:\n",
    "        face = frame[y:y+h, x:x+w]\n",
    "        mask_region = face[int(h/3):h, 0:w] \n",
    "        \n",
    "        hsv = cv2.cvtColor(mask_region, cv2.COLOR_BGR2HSV)\n",
    "        saturation = hsv[:, :, 1]\n",
    "        \n",
    "        brightness = cv2.mean(hsv[:, :, 2])[0]\n",
    "        sat_threshold = max(50, brightness * 0.5) \n",
    "        \n",
    "        avg_saturation = np.mean(saturation)\n",
    "        \n",
    "        lower_skin = np.array([0, 48, 80], dtype=np.uint8)\n",
    "        upper_skin = np.array([20, 255, 255], dtype=np.uint8)\n",
    "        skin_mask = cv2.inRange(hsv, lower_skin, upper_skin)\n",
    "        skin_ratio = cv2.countNonZero(skin_mask) / (w * int(h/2))\n",
    "        \n",
    "        if avg_saturation < sat_threshold and skin_ratio < 0.5:\n",
    "            label = \"Mask\"\n",
    "            color = (0, 255, 0)  # Green for mask\n",
    "        else:\n",
    "            label = \"No Mask\"\n",
    "            color = (0, 0, 255)  # Red for no mask\n",
    "        \n",
    "   \n",
    "        cv2.putText(frame, label, (x, y - 10), cv2.FONT_HERSHEY_SIMPLEX, 0.45, color, 2)\n",
    "        cv2.rectangle(frame, (x, y), (x + w, y + h), color, 2)\n",
    "\n",
    "    return frame\n",
    "\n",
    "print(\"[INFO] Starting video stream...\")\n",
    "vs = cv2.VideoCapture(0)\n",
    "\n",
    "while True:\n",
    "    ret, frame = vs.read()\n",
    "    \n",
    "    if not ret:\n",
    "        break\n",
    "\n",
    "    frame = detect_mask(frame, face_cascade)\n",
    "\n",
    "    cv2.imshow(\"Frame\", frame)\n",
    "    key = cv2.waitKey(1) & 0xFF\n",
    "    \n",
    "    if key == ord(\"q\"):\n",
    "        break\n",
    "\n",
    "cv2.destroyAllWindows()\n",
    "vs.release()\n"
   ]
  },
  {
   "cell_type": "code",
   "execution_count": null,
   "id": "c0d4553a",
   "metadata": {},
   "outputs": [],
   "source": []
  }
 ],
 "metadata": {
  "kernelspec": {
   "display_name": "Python 3 (ipykernel)",
   "language": "python",
   "name": "python3"
  },
  "language_info": {
   "codemirror_mode": {
    "name": "ipython",
    "version": 3
   },
   "file_extension": ".py",
   "mimetype": "text/x-python",
   "name": "python",
   "nbconvert_exporter": "python",
   "pygments_lexer": "ipython3",
   "version": "3.11.5"
  }
 },
 "nbformat": 4,
 "nbformat_minor": 5
}
